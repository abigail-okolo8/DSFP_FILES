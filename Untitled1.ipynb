{
 "cells": [
  {
   "cell_type": "code",
   "execution_count": 3,
   "id": "bc494935",
   "metadata": {},
   "outputs": [
    {
     "name": "stdout",
     "output_type": "stream",
     "text": [
      "-5\n",
      "-4\n",
      "-3\n",
      "-2\n",
      "-1\n",
      "0\n",
      "1\n",
      "2\n",
      "3\n",
      "4\n",
      "5\n"
     ]
    }
   ],
   "source": [
    "for i in range(-5,6):\n",
    "    print(i)"
   ]
  },
  {
   "cell_type": "code",
   "execution_count": 4,
   "id": "1e65621a",
   "metadata": {},
   "outputs": [
    {
     "ename": "SyntaxError",
     "evalue": "invalid syntax (Temp/ipykernel_8520/1116501924.py, line 3)",
     "output_type": "error",
     "traceback": [
      "\u001b[1;36m  File \u001b[1;32m\"C:\\Users\\user-pc\\AppData\\Local\\Temp/ipykernel_8520/1116501924.py\"\u001b[1;36m, line \u001b[1;32m3\u001b[0m\n\u001b[1;33m    for i in range(n)\u001b[0m\n\u001b[1;37m                     ^\u001b[0m\n\u001b[1;31mSyntaxError\u001b[0m\u001b[1;31m:\u001b[0m invalid syntax\n"
     ]
    }
   ],
   "source": [
    "generes[\"rock\",\"soul\",\"pop\"]\n",
    "n=len(genere)\n",
    "for i in range(n)\n",
    "    print(genere{i})"
   ]
  },
  {
   "cell_type": "code",
   "execution_count": 6,
   "id": "54025d58",
   "metadata": {},
   "outputs": [
    {
     "name": "stdout",
     "output_type": "stream",
     "text": [
      "10\n",
      "9\n",
      "10\n",
      "8\n",
      "7\n",
      "10\n",
      "10\n"
     ]
    }
   ],
   "source": [
    "playlistRating=[10,9,5,10,8,7,5,5,10,10]\n",
    "for rating in playlistRating\n",
    "    if rating > 6:\n",
    "        print(rating)\n",
    " "
   ]
  },
  {
   "cell_type": "code",
   "execution_count": 7,
   "id": "e0f00381",
   "metadata": {},
   "outputs": [
    {
     "ename": "SyntaxError",
     "evalue": "invalid syntax (Temp/ipykernel_8520/2199519954.py, line 2)",
     "output_type": "error",
     "traceback": [
      "\u001b[1;36m  File \u001b[1;32m\"C:\\Users\\user-pc\\AppData\\Local\\Temp/ipykernel_8520/2199519954.py\"\u001b[1;36m, line \u001b[1;32m2\u001b[0m\n\u001b[1;33m    rating_index < len(playlistRatings) - 1:\u001b[0m\n\u001b[1;37m                                            ^\u001b[0m\n\u001b[1;31mSyntaxError\u001b[0m\u001b[1;31m:\u001b[0m invalid syntax\n"
     ]
    }
   ],
   "source": [
    "playlistRatings=[10,9,5,10,8,7,5,5,10,10]\n",
    "rating_index < len(playlistRatings) - 1:\n",
    "    if playlistRatings[rating_index]  < 6:\n",
    "        break\n",
    "    print(playlistRatings[rating_index])\n",
    "    rating_index +  rating_index + 1"
   ]
  },
  {
   "cell_type": "code",
   "execution_count": 21,
   "id": "c0bd9a60",
   "metadata": {},
   "outputs": [
    {
     "data": {
      "text/plain": [
       "[('john', 26), ('mary', 30), ('phlip', 12)]"
      ]
     },
     "execution_count": 21,
     "metadata": {},
     "output_type": "execute_result"
    }
   ],
   "source": [
    "names = [\"john\", \"mary\", \"phlip\", \"Ken\"]\n",
    "ages =[26,30,12]\n",
    "list(zip(names,ages))"
   ]
  },
  {
   "cell_type": "code",
   "execution_count": 23,
   "id": "d975c1a0",
   "metadata": {},
   "outputs": [
    {
     "data": {
      "text/plain": [
       "['phlip', 'mary', 'john', 'Ken']"
      ]
     },
     "execution_count": 23,
     "metadata": {},
     "output_type": "execute_result"
    }
   ],
   "source": [
    "sorted(names, reverse=True)"
   ]
  },
  {
   "cell_type": "code",
   "execution_count": 26,
   "id": "c664594b",
   "metadata": {},
   "outputs": [
    {
     "data": {
      "text/plain": [
       "4"
      ]
     },
     "execution_count": 26,
     "metadata": {},
     "output_type": "execute_result"
    }
   ],
   "source": [
    "len(names)"
   ]
  },
  {
   "cell_type": "code",
   "execution_count": 27,
   "id": "7b1c76c0",
   "metadata": {},
   "outputs": [
    {
     "data": {
      "text/plain": [
       "['john', 'mary']"
      ]
     },
     "execution_count": 27,
     "metadata": {},
     "output_type": "execute_result"
    }
   ],
   "source": [
    "names[0:2]"
   ]
  },
  {
   "cell_type": "code",
   "execution_count": null,
   "id": "b41bc480",
   "metadata": {},
   "outputs": [],
   "source": []
  },
  {
   "cell_type": "code",
   "execution_count": null,
   "id": "3af05ae4",
   "metadata": {},
   "outputs": [],
   "source": []
  },
  {
   "cell_type": "code",
   "execution_count": null,
   "id": "4b3fa4fe",
   "metadata": {},
   "outputs": [],
   "source": []
  }
 ],
 "metadata": {
  "kernelspec": {
   "display_name": "Python 3 (ipykernel)",
   "language": "python",
   "name": "python3"
  },
  "language_info": {
   "codemirror_mode": {
    "name": "ipython",
    "version": 3
   },
   "file_extension": ".py",
   "mimetype": "text/x-python",
   "name": "python",
   "nbconvert_exporter": "python",
   "pygments_lexer": "ipython3",
   "version": "3.9.7"
  }
 },
 "nbformat": 4,
 "nbformat_minor": 5
}
